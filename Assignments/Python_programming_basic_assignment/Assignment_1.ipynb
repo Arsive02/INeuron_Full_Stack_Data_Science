{
 "cells": [
  {
   "cell_type": "markdown",
   "id": "c8b7a025",
   "metadata": {},
   "source": [
    "### 1.\tWrite a Python program to print \"Hello Python\"?"
   ]
  },
  {
   "cell_type": "code",
   "execution_count": 1,
   "id": "1d313e80",
   "metadata": {},
   "outputs": [
    {
     "name": "stdout",
     "output_type": "stream",
     "text": [
      "Hello Python\n"
     ]
    }
   ],
   "source": [
    "print(\"Hello Python\")"
   ]
  },
  {
   "cell_type": "markdown",
   "id": "30365983",
   "metadata": {},
   "source": [
    "### 2.\tWrite a Python program to do arithmetical operations addition and division.?"
   ]
  },
  {
   "cell_type": "code",
   "execution_count": 2,
   "id": "b01e00f6",
   "metadata": {},
   "outputs": [
    {
     "name": "stdout",
     "output_type": "stream",
     "text": [
      "Add:  5\n",
      "Integer div:  20\n",
      "Floating point div:  20.0\n",
      "Modulo / Remainder:  0\n"
     ]
    }
   ],
   "source": [
    "print('Add: ',2+3)\n",
    "print('Integer div: ',100//5)\n",
    "print('Floating point div: ',100/5)\n",
    "print('Modulo / Remainder: ',100%5)"
   ]
  },
  {
   "cell_type": "markdown",
   "id": "a1438b06",
   "metadata": {},
   "source": [
    "### 3.\tWrite a Python program to find the area of a triangle?"
   ]
  },
  {
   "cell_type": "code",
   "execution_count": 3,
   "id": "9e97e1f3",
   "metadata": {},
   "outputs": [
    {
     "name": "stdout",
     "output_type": "stream",
     "text": [
      "Enter base: 5\n",
      "Enter Height: 10\n",
      "Area of Triangle:  25.0\n"
     ]
    }
   ],
   "source": [
    "base = int(input(\"Enter base: \"))\n",
    "height = int(input(\"Enter Height: \"))\n",
    "area = (1/2) * (base*height)\n",
    "print(\"Area of Triangle: \", area)"
   ]
  },
  {
   "cell_type": "markdown",
   "id": "98cb2655",
   "metadata": {},
   "source": [
    "### 4.\tWrite a Python program to swap two variables?"
   ]
  },
  {
   "cell_type": "code",
   "execution_count": 4,
   "id": "0cb9cd64",
   "metadata": {},
   "outputs": [
    {
     "name": "stdout",
     "output_type": "stream",
     "text": [
      "Before swapping, a: 10 and b: 20\n",
      "After swapping, a: 20 and b: 10\n"
     ]
    }
   ],
   "source": [
    "a = 10\n",
    "b = 20\n",
    "print(f\"Before swapping, a: {a} and b: {b}\")\n",
    "a,b = b,a\n",
    "print(f\"After swapping, a: {a} and b: {b}\")"
   ]
  },
  {
   "cell_type": "markdown",
   "id": "cc0fef8d",
   "metadata": {},
   "source": [
    "### 5.\tWrite a Python program to generate a random number?"
   ]
  },
  {
   "cell_type": "code",
   "execution_count": 5,
   "id": "c514d02c",
   "metadata": {},
   "outputs": [
    {
     "name": "stdout",
     "output_type": "stream",
     "text": [
      "random number:  97\n"
     ]
    }
   ],
   "source": [
    "import random\n",
    "k = random.randint(0,100)\n",
    "print(\"random number: \",k)"
   ]
  },
  {
   "cell_type": "code",
   "execution_count": null,
   "id": "a1ee2d7c",
   "metadata": {},
   "outputs": [],
   "source": []
  }
 ],
 "metadata": {
  "kernelspec": {
   "display_name": "Python 3 (ipykernel)",
   "language": "python",
   "name": "python3"
  },
  "language_info": {
   "codemirror_mode": {
    "name": "ipython",
    "version": 3
   },
   "file_extension": ".py",
   "mimetype": "text/x-python",
   "name": "python",
   "nbconvert_exporter": "python",
   "pygments_lexer": "ipython3",
   "version": "3.9.7"
  }
 },
 "nbformat": 4,
 "nbformat_minor": 5
}
