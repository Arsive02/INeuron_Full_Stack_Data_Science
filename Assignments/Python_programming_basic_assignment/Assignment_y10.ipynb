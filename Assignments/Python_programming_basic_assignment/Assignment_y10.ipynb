{
 "cells": [
  {
   "cell_type": "markdown",
   "id": "79c7bbf9",
   "metadata": {},
   "source": [
    "### 1.\tWrite a Python program to find sum of elements in list?"
   ]
  },
  {
   "cell_type": "code",
   "execution_count": 2,
   "id": "c6d65d3f",
   "metadata": {},
   "outputs": [
    {
     "name": "stdout",
     "output_type": "stream",
     "text": [
      "1 2 3 4 5\n",
      "Sum:  15\n"
     ]
    }
   ],
   "source": [
    "l = list(map(int,input(\"Enter the list of numbers: \").split()))\n",
    "print(\"Sum: \",sum(l))"
   ]
  },
  {
   "cell_type": "markdown",
   "id": "8db95ff0",
   "metadata": {},
   "source": [
    "### 2.\tWrite a Python program to  Multiply all numbers in the list?"
   ]
  },
  {
   "cell_type": "code",
   "execution_count": 3,
   "id": "48384cc4",
   "metadata": {},
   "outputs": [
    {
     "name": "stdout",
     "output_type": "stream",
     "text": [
      "1 2 3 4 5\n",
      "Product:  120\n"
     ]
    }
   ],
   "source": [
    "l = list(map(int,input(\"Enter the list of numbers: \").split()))\n",
    "prod = 1\n",
    "for i in l:\n",
    "    prod *= i\n",
    "print(\"Product: \",prod)"
   ]
  },
  {
   "cell_type": "markdown",
   "id": "4b30ee8b",
   "metadata": {},
   "source": [
    "### 3.\tWrite a Python program to find smallest number in a list?"
   ]
  },
  {
   "cell_type": "code",
   "execution_count": 5,
   "id": "e349ed34",
   "metadata": {},
   "outputs": [
    {
     "name": "stdout",
     "output_type": "stream",
     "text": [
      "7 9 1 0 -1 2\n",
      "Smallest number in a list:  -1\n"
     ]
    }
   ],
   "source": [
    "l = list(map(int,input(\"Enter the list of numbers: \").split()))\n",
    "print(\"Smallest number in a list: \", min(l))"
   ]
  },
  {
   "cell_type": "markdown",
   "id": "9c578c69",
   "metadata": {},
   "source": [
    "### 4.\tWrite a Python program to find largest number in a list?"
   ]
  },
  {
   "cell_type": "code",
   "execution_count": 6,
   "id": "098c84b9",
   "metadata": {},
   "outputs": [
    {
     "name": "stdout",
     "output_type": "stream",
     "text": [
      "6 12 90 11 4 -1\n",
      "Smallest number in a list:  90\n"
     ]
    }
   ],
   "source": [
    "l = list(map(int,input(\"Enter the list of numbers: \").split()))\n",
    "print(\"Smallest number in a list: \", max(l))"
   ]
  },
  {
   "cell_type": "markdown",
   "id": "684c053e",
   "metadata": {},
   "source": [
    "### 5.\tWrite a Python program to find second largest number in a list?"
   ]
  },
  {
   "cell_type": "code",
   "execution_count": 7,
   "id": "bb3693d5",
   "metadata": {},
   "outputs": [
    {
     "name": "stdout",
     "output_type": "stream",
     "text": [
      "78 12 13 82\n",
      "Second largest:  78\n"
     ]
    }
   ],
   "source": [
    "l = list(map(int,input(\"Enter the list of numbers: \").split()))\n",
    "l.pop(l.index(max(l)))\n",
    "print(\"Second largest: \",max(l))"
   ]
  },
  {
   "cell_type": "markdown",
   "id": "4258e935",
   "metadata": {},
   "source": [
    "### 6.\tWrite a Python program to find N largest elements from a list?"
   ]
  },
  {
   "cell_type": "code",
   "execution_count": 8,
   "id": "235f8e65",
   "metadata": {},
   "outputs": [
    {
     "name": "stdout",
     "output_type": "stream",
     "text": [
      "1 2 96 26 123 8 10 2\n",
      "Enter the value of n ( Must be less than the size of your list): 3\n",
      "3 largest elements in the list: [123, 96, 26]\n"
     ]
    }
   ],
   "source": [
    "l = list(map(int,input(\"Enter the list of numbers: \").split()))\n",
    "n = int(input(\"Enter the value of n ( Must be less than the size of your list): \"))\n",
    "l.sort(reverse = 1)\n",
    "print(f\"{n} largest elements in the list: {l[:n]}\")"
   ]
  },
  {
   "cell_type": "markdown",
   "id": "780f922b",
   "metadata": {},
   "source": [
    "### 7.\tWrite a Python program to print even numbers in a list?"
   ]
  },
  {
   "cell_type": "code",
   "execution_count": 12,
   "id": "c7d85308",
   "metadata": {},
   "outputs": [
    {
     "name": "stdout",
     "output_type": "stream",
     "text": [
      "Enter the list of numbers: 81 62 10 2 3 5 1 24\n",
      "The even numbers in the list are:  [62, 10, 2, 24]\n"
     ]
    }
   ],
   "source": [
    "l = list(map(int,input(\"Enter the list of numbers: \").split()))\n",
    "print(\"The even numbers in the list are: \", list(i for i in l if i%2 == 0))"
   ]
  },
  {
   "cell_type": "markdown",
   "id": "1ab15257",
   "metadata": {},
   "source": [
    "### 8.\tWrite a Python program to print odd numbers in a List?"
   ]
  },
  {
   "cell_type": "code",
   "execution_count": 13,
   "id": "060ffbb7",
   "metadata": {},
   "outputs": [
    {
     "name": "stdout",
     "output_type": "stream",
     "text": [
      "Enter the list of numbers: 81 62 10 2 3 5 1 24\n",
      "The odd numbers in the list are:  [81, 3, 5, 1]\n"
     ]
    }
   ],
   "source": [
    "l = list(map(int,input(\"Enter the list of numbers: \").split()))\n",
    "print(\"The odd numbers in the list are: \", list(i for i in l if i%2))"
   ]
  },
  {
   "cell_type": "markdown",
   "id": "d80840fd",
   "metadata": {},
   "source": [
    "### 9.\tWrite a Python program to Remove empty List from List?"
   ]
  },
  {
   "cell_type": "code",
   "execution_count": 16,
   "id": "36626b86",
   "metadata": {},
   "outputs": [
    {
     "name": "stdout",
     "output_type": "stream",
     "text": [
      "Original list:  [1, [], 'asfa', [], 'X', 12]\n",
      "Modified List:  [1, 'asfa', 'X', 12]\n"
     ]
    }
   ],
   "source": [
    "l = [1, [], \"asfa\", [], \"X\", 12]\n",
    "print(\"Original list: \",l)\n",
    "l = [i for i in l if i != []]\n",
    "print(\"Modified List: \",l)"
   ]
  },
  {
   "cell_type": "markdown",
   "id": "390b1f1c",
   "metadata": {},
   "source": [
    "### 10.\tWrite a Python program to Cloning or Copying a list?"
   ]
  },
  {
   "cell_type": "code",
   "execution_count": 17,
   "id": "d65c6e94",
   "metadata": {},
   "outputs": [
    {
     "name": "stdout",
     "output_type": "stream",
     "text": [
      "Original list:  [1, 2, 3, 4, 5]\n",
      "Cloned list:  [1, 2, 3, 4, 5]\n"
     ]
    }
   ],
   "source": [
    "l = [1,2,3,4,5]\n",
    "b = l.copy()\n",
    "print(\"Original list: \",l)\n",
    "print(\"Cloned list: \",b)"
   ]
  },
  {
   "cell_type": "markdown",
   "id": "22e6f72b",
   "metadata": {},
   "source": [
    "### 11.\tWrite a Python program to Count occurrences of an element in a list?"
   ]
  },
  {
   "cell_type": "code",
   "execution_count": 21,
   "id": "b5624bc5",
   "metadata": {},
   "outputs": [
    {
     "name": "stdout",
     "output_type": "stream",
     "text": [
      "1 as 2 3 1 2 as\n",
      "Count of 1: 2\n",
      "Count of as: 2\n",
      "Count of 2: 2\n",
      "Count of 3: 1\n"
     ]
    }
   ],
   "source": [
    "from collections import Counter\n",
    "l = input().split()\n",
    "d = Counter(l)\n",
    "for i,j in d.items():\n",
    "    print(f\"Count of {i}: {j}\")"
   ]
  }
 ],
 "metadata": {
  "kernelspec": {
   "display_name": "Python 3 (ipykernel)",
   "language": "python",
   "name": "python3"
  },
  "language_info": {
   "codemirror_mode": {
    "name": "ipython",
    "version": 3
   },
   "file_extension": ".py",
   "mimetype": "text/x-python",
   "name": "python",
   "nbconvert_exporter": "python",
   "pygments_lexer": "ipython3",
   "version": "3.9.7"
  }
 },
 "nbformat": 4,
 "nbformat_minor": 5
}
