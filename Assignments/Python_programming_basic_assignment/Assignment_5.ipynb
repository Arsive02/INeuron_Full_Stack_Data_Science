{
 "cells": [
  {
   "cell_type": "markdown",
   "id": "73176c22",
   "metadata": {},
   "source": [
    "### 1.\tWrite a Python Program to Find LCM?"
   ]
  },
  {
   "cell_type": "code",
   "execution_count": 1,
   "id": "e7d4db54",
   "metadata": {},
   "outputs": [
    {
     "name": "stdout",
     "output_type": "stream",
     "text": [
      "Enter a and b: 24 54\n",
      "LCM of 24 and 54 is:  216\n"
     ]
    }
   ],
   "source": [
    "def gcd(a,b):\n",
    "    while b:\n",
    "        a,b = b,a%b\n",
    "    return a\n",
    "\n",
    "a,b = map(int,input(\"Enter a and b: \").split())\n",
    "print(f\"LCM of {a} and {b} is: \" , (a*b)//gcd(a,b))"
   ]
  },
  {
   "cell_type": "markdown",
   "id": "edd8050f",
   "metadata": {},
   "source": [
    "### 2.\tWrite a Python Program to Find HCF?"
   ]
  },
  {
   "cell_type": "code",
   "execution_count": 2,
   "id": "7b2e84ae",
   "metadata": {},
   "outputs": [
    {
     "name": "stdout",
     "output_type": "stream",
     "text": [
      "Enter a and b: 12 24\n",
      "HCF of 12 and 24 is:  12\n"
     ]
    }
   ],
   "source": [
    "def hcf(a,b):\n",
    "    while b:\n",
    "        a,b = b,a%b\n",
    "    return a\n",
    "\n",
    "a,b = map(int,input(\"Enter a and b: \").split())\n",
    "print(f\"HCF of {a} and {b} is: \" , hcf(a,b))"
   ]
  },
  {
   "cell_type": "markdown",
   "id": "0d2c6625",
   "metadata": {},
   "source": [
    "### 3.\tWrite a Python Program to Convert Decimal to Binary, Octal and Hexadecimal?"
   ]
  },
  {
   "cell_type": "code",
   "execution_count": 3,
   "id": "d71a11a4",
   "metadata": {},
   "outputs": [
    {
     "name": "stdout",
     "output_type": "stream",
     "text": [
      "Enter a number: 16\n",
      "Binary of 16 is:  10000\n",
      "Octal of 16 is:  20\n",
      "Hexadecimal of 16 is:  10\n"
     ]
    }
   ],
   "source": [
    "a = int(input(\"Enter a number: \"))\n",
    "print(f\"Binary of {a} is: \",bin(a)[2:])\n",
    "print(f\"Octal of {a} is: \",oct(a)[2:])\n",
    "print(f\"Hexadecimal of {a} is: \",hex(a)[2:])"
   ]
  },
  {
   "cell_type": "markdown",
   "id": "94f3a24c",
   "metadata": {},
   "source": [
    "### 4.\tWrite a Python Program To Find ASCII value of a character?"
   ]
  },
  {
   "cell_type": "code",
   "execution_count": 4,
   "id": "1d8e8ca3",
   "metadata": {},
   "outputs": [
    {
     "name": "stdout",
     "output_type": "stream",
     "text": [
      "Enter a character: g\n",
      "ASCII of g is:  103\n"
     ]
    }
   ],
   "source": [
    "a = input(\"Enter a character: \").strip()\n",
    "print(f\"ASCII of {a} is: \",ord(a))"
   ]
  },
  {
   "cell_type": "markdown",
   "id": "cd3bee86",
   "metadata": {},
   "source": [
    "### 5.\tWrite a Python Program to Make a Simple Calculator with 4 basic mathematical operations?"
   ]
  },
  {
   "cell_type": "code",
   "execution_count": 5,
   "id": "bf852b4f",
   "metadata": {},
   "outputs": [
    {
     "name": "stdout",
     "output_type": "stream",
     "text": [
      "Enter 1st number: 105\n",
      "Enter 2nd number: 95\n",
      "1. Add\n",
      "2.Subtract\n",
      "3.Divide\n",
      "4.Multiply\n",
      "\n",
      "Enter a number: 2\n",
      "10\n"
     ]
    }
   ],
   "source": [
    "a = int(input(\"Enter 1st number: \"))\n",
    "b = int(input(\"Enter 2nd number: \"))\n",
    "print(\"1. Add\\n2.Subtract\\n3.Divide\\n4.Multiply\\n\")\n",
    "choice = int(input('Enter a number: '))\n",
    "if choice == 1:\n",
    "    print(a+b)\n",
    "elif choice == 2:\n",
    "    print(a-b)\n",
    "elif choice == 3:\n",
    "    print(a/b)\n",
    "elif choice == 4:\n",
    "    print(a*b)\n",
    "else:\n",
    "    print(\"Invalid choice\")"
   ]
  },
  {
   "cell_type": "code",
   "execution_count": null,
   "id": "6135d299",
   "metadata": {},
   "outputs": [],
   "source": []
  }
 ],
 "metadata": {
  "kernelspec": {
   "display_name": "Python 3 (ipykernel)",
   "language": "python",
   "name": "python3"
  },
  "language_info": {
   "codemirror_mode": {
    "name": "ipython",
    "version": 3
   },
   "file_extension": ".py",
   "mimetype": "text/x-python",
   "name": "python",
   "nbconvert_exporter": "python",
   "pygments_lexer": "ipython3",
   "version": "3.9.7"
  }
 },
 "nbformat": 4,
 "nbformat_minor": 5
}
