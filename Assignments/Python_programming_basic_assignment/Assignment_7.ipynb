{
 "cells": [
  {
   "cell_type": "markdown",
   "id": "5b60d9be",
   "metadata": {},
   "source": [
    "### 1.\tWrite a Python Program to find sum of array?"
   ]
  },
  {
   "cell_type": "code",
   "execution_count": 1,
   "id": "ab4e92de",
   "metadata": {},
   "outputs": [
    {
     "name": "stdout",
     "output_type": "stream",
     "text": [
      "Enter the array elements: 4 5 6 7 8\n",
      "The sum of the array:  30\n"
     ]
    }
   ],
   "source": [
    "a = list(map(int,input(\"Enter the array elements: \").split()))\n",
    "print(\"The sum of the array: \",sum(a))"
   ]
  },
  {
   "cell_type": "markdown",
   "id": "a7d35689",
   "metadata": {},
   "source": [
    "### 2.\tWrite a Python Program to find largest element in an array?"
   ]
  },
  {
   "cell_type": "code",
   "execution_count": 2,
   "id": "6789836c",
   "metadata": {},
   "outputs": [
    {
     "name": "stdout",
     "output_type": "stream",
     "text": [
      "Enter the array elements: -2 5 32 7 8\n",
      "The largest element in the array:  32\n"
     ]
    }
   ],
   "source": [
    "a = list(map(int,input(\"Enter the array elements: \").split()))\n",
    "print(\"The largest element in the array: \", max(a))"
   ]
  },
  {
   "cell_type": "markdown",
   "id": "f2421332",
   "metadata": {},
   "source": [
    "### 3.\tWrite a Python Program for array rotation?"
   ]
  },
  {
   "cell_type": "code",
   "execution_count": 3,
   "id": "f8f31d87",
   "metadata": {},
   "outputs": [
    {
     "name": "stdout",
     "output_type": "stream",
     "text": [
      "Enter the array elements: 1 2 3 4 6\n",
      "ANTICLOCKWISE ROTATION: \n",
      "[1, 2, 3, 4, 6]\n",
      "[2, 3, 4, 6, 1]\n",
      "[3, 4, 6, 1, 2]\n",
      "[4, 6, 1, 2, 3]\n",
      "[6, 1, 2, 3, 4]\n",
      "\n",
      "CLOCKWISE ROTATION: \n",
      "[1, 2, 3, 4, 6]\n",
      "[6, 1, 2, 3, 4]\n",
      "[4, 6, 1, 2, 3]\n",
      "[3, 4, 6, 1, 2]\n",
      "[2, 3, 4, 6, 1]\n"
     ]
    }
   ],
   "source": [
    "a = list(map(int,input(\"Enter the array elements: \").split()))\n",
    "\n",
    "print(\"ANTICLOCKWISE ROTATION: \")\n",
    "for i in range(len(a)):\n",
    "    print(a[i: ] + a[ :i])\n",
    "print()\n",
    "print(\"CLOCKWISE ROTATION: \")\n",
    "for i in range(len(a)):\n",
    "    print(a[-i:] + a[:-i])"
   ]
  },
  {
   "cell_type": "markdown",
   "id": "49db3b67",
   "metadata": {},
   "source": [
    "### 4.\tWrite a Python Program to Split the array and add the first part to the end?"
   ]
  },
  {
   "cell_type": "code",
   "execution_count": 4,
   "id": "9b65eb63",
   "metadata": {},
   "outputs": [
    {
     "name": "stdout",
     "output_type": "stream",
     "text": [
      "Enter the array elements: 1 2 3 4 5\n",
      "Enter the index at which you want to split: < Must be less than the size of array >3\n",
      "Modified array: [1, 2, 3, 4, 5, 1, 2, 3]\n"
     ]
    }
   ],
   "source": [
    "a = list(map(int,input(\"Enter the array elements: \").split()))\n",
    "k = int(input(\"Enter the index at which you want to split: < Must be less than the size of array >\"))\n",
    "f,l = a[:k],a[k:]\n",
    "print(\"Modified array:\",a+f)"
   ]
  },
  {
   "cell_type": "markdown",
   "id": "b555d600",
   "metadata": {},
   "source": [
    "### 5.\tWrite a Python Program to check if given array is Monotonic?"
   ]
  },
  {
   "cell_type": "code",
   "execution_count": 5,
   "id": "e4a805e5",
   "metadata": {},
   "outputs": [
    {
     "name": "stdout",
     "output_type": "stream",
     "text": [
      "Enter the array elements: 5 4 3 2 1\n",
      "The array is monotonically decreasing!\n"
     ]
    }
   ],
   "source": [
    "a = list(map(int,input(\"Enter the array elements: \").split()))\n",
    "if sorted(a) == a:\n",
    "    print(\"The array is monotonically increasing!\")\n",
    "elif sorted(a,reverse = 1) == a:\n",
    "    print(\"The array is monotonically decreasing!\")\n",
    "else:\n",
    "    print(\"The array is not monotonic\")"
   ]
  },
  {
   "cell_type": "code",
   "execution_count": null,
   "id": "df5eb79c",
   "metadata": {},
   "outputs": [],
   "source": []
  }
 ],
 "metadata": {
  "kernelspec": {
   "display_name": "Python 3 (ipykernel)",
   "language": "python",
   "name": "python3"
  },
  "language_info": {
   "codemirror_mode": {
    "name": "ipython",
    "version": 3
   },
   "file_extension": ".py",
   "mimetype": "text/x-python",
   "name": "python",
   "nbconvert_exporter": "python",
   "pygments_lexer": "ipython3",
   "version": "3.9.7"
  }
 },
 "nbformat": 4,
 "nbformat_minor": 5
}
