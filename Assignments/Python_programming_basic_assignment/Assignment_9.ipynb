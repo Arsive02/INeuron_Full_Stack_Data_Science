{
 "cells": [
  {
   "cell_type": "markdown",
   "id": "7a6d4da3",
   "metadata": {},
   "source": [
    "### 1.\tWrite a Python program to check if the given number is a Disarium Number?"
   ]
  },
  {
   "cell_type": "code",
   "execution_count": 7,
   "id": "93136c0a",
   "metadata": {
    "scrolled": true
   },
   "outputs": [
    {
     "name": "stdout",
     "output_type": "stream",
     "text": [
      "Enter the number: 175\n",
      "175 is Disarium number.\n"
     ]
    }
   ],
   "source": [
    "n = int(input(\"Enter the number: \"))\n",
    "l = len(str(n))\n",
    "t = n\n",
    "s = 0\n",
    "while n > 0:\n",
    "    s += (n%10)**l\n",
    "    l -= 1\n",
    "    n//=10\n",
    "if t==s:\n",
    "    print(f\"{t} is Disarium number.\")\n",
    "else:\n",
    "    print(f\"{t} is not a Disarium number.\")"
   ]
  },
  {
   "cell_type": "markdown",
   "id": "b8fb9981",
   "metadata": {},
   "source": [
    "### 2.\tWrite a Python program to print all disarium numbers between 1 to 100?"
   ]
  },
  {
   "cell_type": "code",
   "execution_count": 2,
   "id": "442ef2b9",
   "metadata": {},
   "outputs": [
    {
     "name": "stdout",
     "output_type": "stream",
     "text": [
      "The disarium numbers between 1 and 100: \n",
      "1 2 3 4 5 6 7 8 9 89 "
     ]
    }
   ],
   "source": [
    "print(\"The disarium numbers between 1 and 100: \")\n",
    "for i in range(1,101):\n",
    "    l = len(str(i))\n",
    "    t = i\n",
    "    s = 0\n",
    "    while i > 0:\n",
    "        s += (i%10)**l\n",
    "        l -= 1\n",
    "        i //= 10\n",
    "    if t == s:\n",
    "        print(t,end=' ')\n"
   ]
  },
  {
   "cell_type": "markdown",
   "id": "a9874132",
   "metadata": {},
   "source": [
    "### 3.\tWrite a Python program to check if the given number is Happy Number?"
   ]
  },
  {
   "cell_type": "code",
   "execution_count": 3,
   "id": "7fe982c1",
   "metadata": {},
   "outputs": [
    {
     "name": "stdout",
     "output_type": "stream",
     "text": [
      "Enter an integer: 32\n",
      "Happy Number\n"
     ]
    }
   ],
   "source": [
    "def isHappy(n: int) -> bool:\n",
    "    def steps(n):\n",
    "        res = 0 \n",
    "        while n > 0 :\n",
    "            res += (n % 10) ** 2\n",
    "            n = n // 10 \n",
    "        return res \n",
    "\n",
    "    slow, fast  = n, n\n",
    "    while fast != 1 and steps(fast) != 1:\n",
    "        slow = steps(slow)\n",
    "        fast = steps(steps(fast))\n",
    "        if slow == fast:\n",
    "            return False \n",
    "    return True \n",
    "\n",
    "n = int(input(\"Enter an integer: \"))\n",
    "if isHappy(n):\n",
    "    print(\"Happy Number\")\n",
    "else:\n",
    "    print(\"Not Happy Number\")"
   ]
  },
  {
   "cell_type": "markdown",
   "id": "14d49de2",
   "metadata": {},
   "source": [
    "### 4.\tWrite a Python program to print all happy numbers between 1 and 100?"
   ]
  },
  {
   "cell_type": "code",
   "execution_count": 4,
   "id": "7f5ce702",
   "metadata": {},
   "outputs": [
    {
     "name": "stdout",
     "output_type": "stream",
     "text": [
      "1 7 10 13 19 23 28 31 32 44 49 68 70 79 82 86 91 94 97 100 "
     ]
    }
   ],
   "source": [
    "def isHappy(n: int) -> bool:\n",
    "    def steps(n):\n",
    "        res = 0 \n",
    "        while n > 0 :\n",
    "            res += (n % 10) ** 2\n",
    "            n = n // 10 \n",
    "        return res \n",
    "\n",
    "    slow, fast  = n, n\n",
    "    while fast != 1 and steps(fast) != 1:\n",
    "        slow = steps(slow)\n",
    "        fast = steps(steps(fast))\n",
    "        if slow == fast:\n",
    "            return False \n",
    "    return True \n",
    "\n",
    "for i in range(1,101):\n",
    "    if isHappy(i):\n",
    "        print(i,end=' ')"
   ]
  },
  {
   "cell_type": "markdown",
   "id": "2eb71268",
   "metadata": {},
   "source": [
    "### 5.\tWrite a Python program to determine whether the given number is a Harshad Number?"
   ]
  },
  {
   "cell_type": "code",
   "execution_count": 5,
   "id": "38d5f04a",
   "metadata": {},
   "outputs": [
    {
     "name": "stdout",
     "output_type": "stream",
     "text": [
      "Enter a number: 6804\n",
      "Harshad Number\n"
     ]
    }
   ],
   "source": [
    "n = input(\"Enter a number: \").strip()\n",
    "if int(n)%sum(list(map(int,list(n)))) == 0:\n",
    "    print(\"Harshad Number\")\n",
    "else:\n",
    "    print(\"Not Harshad Number\")"
   ]
  },
  {
   "cell_type": "markdown",
   "id": "809e3e5f",
   "metadata": {},
   "source": [
    "### 6.\tWrite a Python program to print all pronic numbers between 1 and 100?"
   ]
  },
  {
   "cell_type": "code",
   "execution_count": 6,
   "id": "2856deaa",
   "metadata": {},
   "outputs": [
    {
     "name": "stdout",
     "output_type": "stream",
     "text": [
      "2 6 12 20 30 42 56 72 90 "
     ]
    }
   ],
   "source": [
    "from math import sqrt\n",
    "for i in range(1,101):\n",
    "    j = 0\n",
    "    while j < int(sqrt(i))+1:\n",
    "        if i == j*(j+1):\n",
    "            print(i,end=' ')\n",
    "            break\n",
    "        j += 1\n",
    "    "
   ]
  }
 ],
 "metadata": {
  "kernelspec": {
   "display_name": "Python 3 (ipykernel)",
   "language": "python",
   "name": "python3"
  },
  "language_info": {
   "codemirror_mode": {
    "name": "ipython",
    "version": 3
   },
   "file_extension": ".py",
   "mimetype": "text/x-python",
   "name": "python",
   "nbconvert_exporter": "python",
   "pygments_lexer": "ipython3",
   "version": "3.9.7"
  }
 },
 "nbformat": 4,
 "nbformat_minor": 5
}
