{
 "cells": [
  {
   "cell_type": "markdown",
   "id": "62f19a5a",
   "metadata": {},
   "source": [
    "### 1.\tWrite a Python Program to Add Two Matrices?"
   ]
  },
  {
   "cell_type": "code",
   "execution_count": 2,
   "id": "4ffb28e8",
   "metadata": {},
   "outputs": [
    {
     "name": "stdout",
     "output_type": "stream",
     "text": [
      "Enter the row and col: 2 2\n",
      "Enter the first matrix: 1 2\n",
      "Enter the first matrix: 3 4\n",
      "Enter the second matrix: 1 1\n",
      "Enter the second matrix: 1 1\n",
      "The result matrix: \n",
      "2 3\n",
      "4 5\n"
     ]
    }
   ],
   "source": [
    "r,c = map(int,input(\"Enter the row and col: \").split())\n",
    "a = [list(map(int,input(\"Enter the first matrix: \").split())) for i in range(r)]\n",
    "b = [list(map(int,input(\"Enter the second matrix: \").split())) for i in range(r)]\n",
    "s = [[0 for j in range(c)] for i in range(r)]\n",
    "for i in range(r):\n",
    "    for j in range(c):\n",
    "        s[i][j] = a[i][j] + b[i][j]\n",
    "print(\"The result matrix: \")\n",
    "for i in s:\n",
    "    print(*i)"
   ]
  },
  {
   "cell_type": "markdown",
   "id": "d226a016",
   "metadata": {},
   "source": [
    "### 2.\tWrite a Python Program to Multiply Two Matrices?"
   ]
  },
  {
   "cell_type": "code",
   "execution_count": 3,
   "id": "67a1b221",
   "metadata": {},
   "outputs": [
    {
     "name": "stdout",
     "output_type": "stream",
     "text": [
      "Enter the row and col of first matrix: 3 2\n",
      "Enter the matrix elements: 1 2\n",
      "Enter the matrix elements: 3 4\n",
      "Enter the matrix elements: 5 6\n",
      "Enter the row and col of second matrix: 2 3\n",
      "Enter the matrix elements: 1 2 3\n",
      "Enter the matrix elements: 4 5 6\n",
      "The resultant matrix is: \n",
      "9 12 15\n",
      "19 26 33\n",
      "29 40 51\n"
     ]
    }
   ],
   "source": [
    "r1,c1 = map(int,input(\"Enter the row and col of first matrix: \").split())\n",
    "a = [list(map(int,input(\"Enter the matrix elements: \").split())) for i in range(r1)]\n",
    "r2,c2 = map(int,input(\"Enter the row and col of second matrix: \").split())\n",
    "b = [list(map(int,input(\"Enter the matrix elements: \").split())) for i in range(r2)]\n",
    "if c1 != r2:\n",
    "    print(\"Matrix multiplication not possible as dimensions doesn't agree.\")\n",
    "else:\n",
    "    s = [[sum(p*q for p,q in zip(p_row,q_col)) for q_col in zip(*b)]for p_row in a]\n",
    "    print(\"The resultant matrix is: \")\n",
    "    for i in s:\n",
    "        print(*i)\n",
    "            "
   ]
  },
  {
   "cell_type": "markdown",
   "id": "f5d9cdf6",
   "metadata": {},
   "source": [
    "### 3.\tWrite a Python Program to Transpose a Matrix?"
   ]
  },
  {
   "cell_type": "code",
   "execution_count": 4,
   "id": "583dfeb6",
   "metadata": {},
   "outputs": [
    {
     "name": "stdout",
     "output_type": "stream",
     "text": [
      "Enter the row and col: 3 3\n",
      "1 2 3\n",
      "4 5 6\n",
      "7 8 9\n",
      "The transpose of the matrix is: \n",
      "1 4 7\n",
      "2 5 8\n",
      "3 6 9\n"
     ]
    }
   ],
   "source": [
    "r,c = map(int,input(\"Enter the row and col: \").split())\n",
    "a = [list(map(int,input().split())) for i in range(r)]\n",
    "b = list(zip(*a))\n",
    "print(\"The transpose of the matrix is: \")\n",
    "for i in b: print(*i)"
   ]
  },
  {
   "cell_type": "markdown",
   "id": "106a3d02",
   "metadata": {},
   "source": [
    "### 4.\tWrite a Python Program to Sort Words in Alphabetic Order?"
   ]
  },
  {
   "cell_type": "code",
   "execution_count": 5,
   "id": "fddf19c2",
   "metadata": {},
   "outputs": [
    {
     "name": "stdout",
     "output_type": "stream",
     "text": [
      "i am not the first letter in the alphabet\n",
      "The sorted result based on Ascii ->  ['alphabet', 'am', 'first', 'i', 'in', 'letter', 'not', 'the', 'the']\n"
     ]
    }
   ],
   "source": [
    "s = input().split()\n",
    "s.sort()\n",
    "print(\"The sorted result based on Ascii -> \",s)"
   ]
  },
  {
   "cell_type": "markdown",
   "id": "55153e9f",
   "metadata": {},
   "source": [
    "### 5.\tWrite a Python Program to Remove Punctuation From a String?"
   ]
  },
  {
   "cell_type": "code",
   "execution_count": 6,
   "id": "6d06f80d",
   "metadata": {},
   "outputs": [
    {
     "name": "stdout",
     "output_type": "stream",
     "text": [
      "Enter the string with punctuations: I'am not&really that^bad, at making @choices\n",
      "The string after removing punctuations : Iam notreally thatbad at making choices\n"
     ]
    }
   ],
   "source": [
    "import re\n",
    "\n",
    "s = input(\"Enter the string with punctuations: \").strip()\n",
    "res = re.sub(r'[^\\w\\s]', '', s)\n",
    "print(\"The string after removing punctuations : \" + res)"
   ]
  },
  {
   "cell_type": "code",
   "execution_count": null,
   "id": "ed5ad6e1",
   "metadata": {},
   "outputs": [],
   "source": []
  }
 ],
 "metadata": {
  "kernelspec": {
   "display_name": "Python 3 (ipykernel)",
   "language": "python",
   "name": "python3"
  },
  "language_info": {
   "codemirror_mode": {
    "name": "ipython",
    "version": 3
   },
   "file_extension": ".py",
   "mimetype": "text/x-python",
   "name": "python",
   "nbconvert_exporter": "python",
   "pygments_lexer": "ipython3",
   "version": "3.9.7"
  }
 },
 "nbformat": 4,
 "nbformat_minor": 5
}
