{
 "cells": [
  {
   "cell_type": "markdown",
   "id": "f55129fd",
   "metadata": {},
   "source": [
    "### 1. Why are functions advantageous to have in your programs?"
   ]
  },
  {
   "cell_type": "markdown",
   "id": "24bb8054",
   "metadata": {},
   "source": [
    "- Improves Readability\n",
    "- Reusability\n",
    "- Debugging is easier\n",
    "- Function performs specific task\n",
    "- Reduces redundancy"
   ]
  },
  {
   "cell_type": "markdown",
   "id": "9ccaef71",
   "metadata": {},
   "source": [
    "### 2. When does the code in a function run: when it's specified or when it's called?"
   ]
  },
  {
   "cell_type": "markdown",
   "id": "f586ddd5",
   "metadata": {},
   "source": [
    "A Function is run only when it's called. Although it'll be defined before hand, It will only run when the function is called."
   ]
  },
  {
   "cell_type": "markdown",
   "id": "682dbe03",
   "metadata": {},
   "source": [
    "### 3. What statement creates a function?\n",
    "Solution: The def statement defines a function. A function has a body, return value, Docstring etc."
   ]
  },
  {
   "cell_type": "code",
   "execution_count": 1,
   "id": "3e75f637",
   "metadata": {},
   "outputs": [],
   "source": [
    "def testFunc():\n",
    "    \"\"\"This is a test function\"\"\"\n",
    "    pass"
   ]
  },
  {
   "cell_type": "markdown",
   "id": "3f999931",
   "metadata": {},
   "source": [
    "### 4. What is the difference between a function and a function call?"
   ]
  },
  {
   "cell_type": "markdown",
   "id": "0891f813",
   "metadata": {},
   "source": [
    "A function is a block of code that executes when called.\n",
    "\n",
    "Example:"
   ]
  },
  {
   "cell_type": "code",
   "execution_count": 2,
   "id": "d43eacdf",
   "metadata": {},
   "outputs": [],
   "source": [
    "def testFunc():\n",
    "    \"\"\"This is a test function\"\"\"\n",
    "    print(\"Hello world\")"
   ]
  },
  {
   "cell_type": "markdown",
   "id": "58df0282",
   "metadata": {},
   "source": [
    "A function call is when we need to access the function and execute the purpose its defined for.\n",
    "The above example is executed only when it is called."
   ]
  },
  {
   "cell_type": "code",
   "execution_count": 3,
   "id": "7613c29d",
   "metadata": {},
   "outputs": [
    {
     "name": "stdout",
     "output_type": "stream",
     "text": [
      "Hello world\n"
     ]
    }
   ],
   "source": [
    "testFunc()"
   ]
  },
  {
   "cell_type": "markdown",
   "id": "6e41dc6f",
   "metadata": {},
   "source": [
    "### 5. How many global scopes are there in a Python program? How many local scopes?"
   ]
  },
  {
   "cell_type": "markdown",
   "id": "4dcdf558",
   "metadata": {},
   "source": [
    "There is only one global scope. Local scopes are created when variables are created inside a function and is specific to that function alone. There can be many local scopes and are destroyed when the function returns."
   ]
  },
  {
   "cell_type": "markdown",
   "id": "d17236bb",
   "metadata": {},
   "source": [
    "### 6. What happens to variables in a local scope when the function call returns?"
   ]
  },
  {
   "cell_type": "markdown",
   "id": "64567e31",
   "metadata": {},
   "source": [
    "Variables in the local scope are destroyed when the function call returns."
   ]
  },
  {
   "cell_type": "markdown",
   "id": "2baf698e",
   "metadata": {},
   "source": [
    "### 7. What is the concept of a return value? Is it possible to have a return value in an expression?"
   ]
  },
  {
   "cell_type": "markdown",
   "id": "930fdb79",
   "metadata": {},
   "source": [
    "A function evaluates the code defined inside it and usually returns the resultant data for further processing.\n",
    "It is possible to have a return value in an expression."
   ]
  },
  {
   "cell_type": "markdown",
   "id": "969fc04c",
   "metadata": {},
   "source": [
    "### 8. If a function does not have a return statement, what is the return value of a call to that function?"
   ]
  },
  {
   "cell_type": "code",
   "execution_count": 4,
   "id": "ea5ee146",
   "metadata": {},
   "outputs": [
    {
     "name": "stdout",
     "output_type": "stream",
     "text": [
      "None\n"
     ]
    }
   ],
   "source": [
    "def test():\n",
    "    a = 10\n",
    "    b = 5\n",
    "print(test())"
   ]
  },
  {
   "cell_type": "markdown",
   "id": "7ead00ee",
   "metadata": {},
   "source": [
    "The return type is None"
   ]
  },
  {
   "cell_type": "markdown",
   "id": "dce035d8",
   "metadata": {},
   "source": [
    "### 9. How do you make a function variable refer to the global variable?"
   ]
  },
  {
   "cell_type": "markdown",
   "id": "519269cf",
   "metadata": {},
   "source": [
    "A global statement will force the variable in a function to refer to the global variable. We can use the global keyword to declare which variables are global."
   ]
  },
  {
   "cell_type": "markdown",
   "id": "b0e8b814",
   "metadata": {},
   "source": [
    "### 10. What is the data type of None?"
   ]
  },
  {
   "cell_type": "code",
   "execution_count": 5,
   "id": "5a7ca701",
   "metadata": {},
   "outputs": [
    {
     "data": {
      "text/plain": [
       "NoneType"
      ]
     },
     "execution_count": 5,
     "metadata": {},
     "output_type": "execute_result"
    }
   ],
   "source": [
    "type(None)"
   ]
  },
  {
   "cell_type": "markdown",
   "id": "aeae33ce",
   "metadata": {},
   "source": [
    "### 11. What does the sentence import areallyourpetsnamederic do?"
   ]
  },
  {
   "cell_type": "markdown",
   "id": "ca3a841c",
   "metadata": {},
   "source": [
    "import areallyourpetsnamederic will import the module if it's available or else throws an error if it is not available"
   ]
  },
  {
   "cell_type": "markdown",
   "id": "25f7b8d3",
   "metadata": {},
   "source": [
    "### 12. If you had a bacon() feature in a spam module, what would you call it after importing spam?"
   ]
  },
  {
   "cell_type": "markdown",
   "id": "4420b107",
   "metadata": {},
   "source": [
    "spam.bacon()"
   ]
  },
  {
   "cell_type": "markdown",
   "id": "e101d385",
   "metadata": {},
   "source": [
    "### 13. What can you do to save a programme from crashing if it encounters an error?"
   ]
  },
  {
   "cell_type": "markdown",
   "id": "268b50a6",
   "metadata": {},
   "source": [
    "We can implement 'Exception Handling'\n",
    "<pre>\n",
    "try:\n",
    "    Some code\n",
    "except:\n",
    "    catch the exception here\n",
    "</pre>"
   ]
  },
  {
   "cell_type": "markdown",
   "id": "a266f0a2",
   "metadata": {},
   "source": [
    "### 14. What is the purpose of the try clause? What is the purpose of the except clause?\n"
   ]
  },
  {
   "cell_type": "markdown",
   "id": "c698d081",
   "metadata": {},
   "source": [
    "Try clause is used on a particular block of code where it is prone to exception. It is used to throw the exception for the Except clause to catch it and handle the error.\n",
    "\n",
    "The except clause will catch the thrown error and handle the exception"
   ]
  },
  {
   "cell_type": "code",
   "execution_count": null,
   "id": "39e0cbeb",
   "metadata": {},
   "outputs": [],
   "source": []
  }
 ],
 "metadata": {
  "kernelspec": {
   "display_name": "Python 3 (ipykernel)",
   "language": "python",
   "name": "python3"
  },
  "language_info": {
   "codemirror_mode": {
    "name": "ipython",
    "version": 3
   },
   "file_extension": ".py",
   "mimetype": "text/x-python",
   "name": "python",
   "nbconvert_exporter": "python",
   "pygments_lexer": "ipython3",
   "version": "3.9.7"
  }
 },
 "nbformat": 4,
 "nbformat_minor": 5
}
