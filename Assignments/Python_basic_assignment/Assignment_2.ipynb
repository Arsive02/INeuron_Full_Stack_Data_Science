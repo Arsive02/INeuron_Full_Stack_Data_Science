{
 "cells": [
  {
   "cell_type": "markdown",
   "id": "cd0d041f",
   "metadata": {},
   "source": [
    "### 1.What are the two values of the Boolean data type? How do you write them?"
   ]
  },
  {
   "cell_type": "markdown",
   "id": "cd19b4b5",
   "metadata": {},
   "source": [
    "True and False"
   ]
  },
  {
   "cell_type": "code",
   "execution_count": 1,
   "id": "62db3f60",
   "metadata": {},
   "outputs": [],
   "source": [
    "a = True\n",
    "b = False"
   ]
  },
  {
   "cell_type": "markdown",
   "id": "1812433e",
   "metadata": {},
   "source": [
    "### 2. What are the three different types of Boolean operators?"
   ]
  },
  {
   "cell_type": "markdown",
   "id": "e1b48c50",
   "metadata": {},
   "source": [
    "and , or, not"
   ]
  },
  {
   "cell_type": "code",
   "execution_count": 2,
   "id": "47282d89",
   "metadata": {},
   "outputs": [
    {
     "data": {
      "text/plain": [
       "False"
      ]
     },
     "execution_count": 2,
     "metadata": {},
     "output_type": "execute_result"
    }
   ],
   "source": [
    "True and False or True and not True"
   ]
  },
  {
   "cell_type": "markdown",
   "id": "0ab9693a",
   "metadata": {},
   "source": [
    "### 3. Make a list of each Boolean operator&#39;s truth tables (i.e. every possible combination of Boolean values for the operator and what it evaluate )."
   ]
  },
  {
   "cell_type": "code",
   "execution_count": 3,
   "id": "e7de074e",
   "metadata": {},
   "outputs": [
    {
     "name": "stdout",
     "output_type": "stream",
     "text": [
      " 'And' operation: \n",
      "0 and 0 is  0\n",
      "0 and 1 is  0\n",
      "1 and 0 is  0\n",
      "1 and 1 is  1\n",
      "\n",
      " 'or' operation: \n",
      "0 and 0 is  0\n",
      "0 and 1 is  1\n",
      "1 and 0 is  1\n",
      "1 and 1 is  1\n",
      "\n",
      " 'Not' operation: \n",
      "Not of True is  False\n",
      "Not of False is  True\n"
     ]
    }
   ],
   "source": [
    "l = [[0,0],[0,1],[1,0],[1,1]]\n",
    "\n",
    "print(\" 'And' operation: \")\n",
    "for i in l:\n",
    "    print(\"{} and {} is \".format(i[0],i[1]),i[0] and i[1])\n",
    "print()\n",
    "print(\" 'or' operation: \")\n",
    "for i in l:\n",
    "    print(\"{} and {} is \".format(i[0],i[1]),i[0] or i[1])    \n",
    "print()\n",
    "print(\" 'Not' operation: \")\n",
    "print(\"Not of True is \", not 1)\n",
    "print(\"Not of False is \", not 0)"
   ]
  },
  {
   "cell_type": "markdown",
   "id": "f4fb0945",
   "metadata": {},
   "source": [
    "### 4. What are the values of the following expressions?"
   ]
  },
  {
   "cell_type": "code",
   "execution_count": 4,
   "id": "7a69372b",
   "metadata": {},
   "outputs": [
    {
     "data": {
      "text/plain": [
       "False"
      ]
     },
     "execution_count": 4,
     "metadata": {},
     "output_type": "execute_result"
    }
   ],
   "source": [
    "(5 > 4) and (3 == 5)"
   ]
  },
  {
   "cell_type": "code",
   "execution_count": 5,
   "id": "60944b1a",
   "metadata": {},
   "outputs": [
    {
     "data": {
      "text/plain": [
       "False"
      ]
     },
     "execution_count": 5,
     "metadata": {},
     "output_type": "execute_result"
    }
   ],
   "source": [
    "not (5 > 4)"
   ]
  },
  {
   "cell_type": "code",
   "execution_count": 6,
   "id": "d8419fb9",
   "metadata": {},
   "outputs": [
    {
     "data": {
      "text/plain": [
       "True"
      ]
     },
     "execution_count": 6,
     "metadata": {},
     "output_type": "execute_result"
    }
   ],
   "source": [
    "(5 > 4) or (3 == 5)"
   ]
  },
  {
   "cell_type": "code",
   "execution_count": 7,
   "id": "0268c58d",
   "metadata": {},
   "outputs": [
    {
     "data": {
      "text/plain": [
       "False"
      ]
     },
     "execution_count": 7,
     "metadata": {},
     "output_type": "execute_result"
    }
   ],
   "source": [
    "not ((5 > 4) or (3 == 5))"
   ]
  },
  {
   "cell_type": "code",
   "execution_count": 8,
   "id": "89f3db71",
   "metadata": {},
   "outputs": [
    {
     "data": {
      "text/plain": [
       "False"
      ]
     },
     "execution_count": 8,
     "metadata": {},
     "output_type": "execute_result"
    }
   ],
   "source": [
    "(True and True) and (True == False)"
   ]
  },
  {
   "cell_type": "code",
   "execution_count": 9,
   "id": "7cc1e089",
   "metadata": {},
   "outputs": [
    {
     "data": {
      "text/plain": [
       "True"
      ]
     },
     "execution_count": 9,
     "metadata": {},
     "output_type": "execute_result"
    }
   ],
   "source": [
    "(not False) or (not True)"
   ]
  },
  {
   "cell_type": "markdown",
   "id": "f85537de",
   "metadata": {},
   "source": [
    "### 5. What are the six comparison operators?\n"
   ]
  },
  {
   "cell_type": "markdown",
   "id": "e8d28669",
   "metadata": {},
   "source": [
    "< , == , <= , >= ,!= , >\n",
    "\n",
    "Greater than, lesser than, Greater than or equal to, Lesser than equal to, equals, not equal to"
   ]
  },
  {
   "cell_type": "markdown",
   "id": "daeb0e20",
   "metadata": {},
   "source": [
    "### 6. How do you tell the difference between the equal to and assignment operators?Describe a condition and when you would use one.\n"
   ]
  },
  {
   "cell_type": "markdown",
   "id": "c703d5da",
   "metadata": {},
   "source": [
    "Equal to is indicated by '=='\n",
    "Assignment operators are indicated by '='\n",
    "\n",
    "To assign a value to a variable we use Assignment operators.\n",
    "To check the equality condition we use equal to operator"
   ]
  },
  {
   "cell_type": "markdown",
   "id": "20dcf74b",
   "metadata": {},
   "source": [
    "### 7. Identify the three blocks in this code:\n"
   ]
  },
  {
   "cell_type": "code",
   "execution_count": 10,
   "id": "6a63b362",
   "metadata": {},
   "outputs": [
    {
     "name": "stdout",
     "output_type": "stream",
     "text": [
      "ham\n",
      "spam\n",
      "spam\n"
     ]
    }
   ],
   "source": [
    "spam = 0\n",
    "if spam == 10:\n",
    "    print('eggs')  # Block 1\n",
    "if spam > 5:\n",
    "    print('bacon') # Block 2\n",
    "else: \n",
    "    print('ham')   # Block 3\n",
    "    print('spam')\n",
    "    print('spam')\n"
   ]
  },
  {
   "cell_type": "markdown",
   "id": "d08d5a7e",
   "metadata": {},
   "source": [
    "### 8. Write code that prints Hello if 1 is stored in spam, prints Howdy if 2 is stored in spam, and prints Greetings! if anything else is stored in spam."
   ]
  },
  {
   "cell_type": "code",
   "execution_count": 11,
   "id": "b5974980",
   "metadata": {},
   "outputs": [
    {
     "name": "stdout",
     "output_type": "stream",
     "text": [
      "2\n",
      "Howdy\n"
     ]
    }
   ],
   "source": [
    "spam = int(input())\n",
    "if spam == 1:\n",
    "    print('Hello')\n",
    "elif spam == 2:\n",
    "    print('Howdy')\n",
    "else:\n",
    "    print('Greetings!')"
   ]
  },
  {
   "cell_type": "markdown",
   "id": "12edc08d",
   "metadata": {},
   "source": [
    "### 9.If your programme is stuck in an endless loop, what keys you’ll press?\n"
   ]
  },
  {
   "cell_type": "markdown",
   "id": "fed8b64e",
   "metadata": {},
   "source": [
    "CTRL + C ( Keyboard interrupt ).\n",
    "\n",
    "In jupyter press 'i' to interrupt the kernal"
   ]
  },
  {
   "cell_type": "markdown",
   "id": "6a10608e",
   "metadata": {},
   "source": [
    "### 10. How can you tell the difference between break and continue?\n"
   ]
  },
  {
   "cell_type": "markdown",
   "id": "25f96b74",
   "metadata": {},
   "source": [
    "Break statement will exit the loop whereas Continue statement will skip that particular condition and then continue through the loop."
   ]
  },
  {
   "cell_type": "markdown",
   "id": "2541c960",
   "metadata": {},
   "source": [
    "### 11. In a for loop, what is the difference between range(10), range(0, 10), and range(0, 10, 1)?\n"
   ]
  },
  {
   "cell_type": "markdown",
   "id": "eda89aa7",
   "metadata": {},
   "source": [
    "<pre>\n",
    "range(10)     -> indicates only the ending index <br>\n",
    "range(0,10)   -> indicates the starting and ending index <br>\n",
    "range(0,10,1) -> indicates the starting, ending and the step size <br>\n",
    "<pre>"
   ]
  },
  {
   "cell_type": "markdown",
   "id": "b328fc8d",
   "metadata": {},
   "source": [
    "### 12. Write a short program that prints the numbers 1 to 10 using a for loop. Then write an equivalent program that prints the numbers 1 to 10 using a while loop.\n"
   ]
  },
  {
   "cell_type": "code",
   "execution_count": 12,
   "id": "041654a7",
   "metadata": {},
   "outputs": [
    {
     "name": "stdout",
     "output_type": "stream",
     "text": [
      "Using for loop: \n",
      "1 2 3 4 5 6 7 8 9 10 \n",
      "\n",
      "Using While loop: \n",
      "1 2 3 4 5 6 7 8 9 10 "
     ]
    }
   ],
   "source": [
    "# For loop\n",
    "print('Using for loop: ')\n",
    "for i in range(1,11):\n",
    "    print(i,end=' ')\n",
    "print()\n",
    "print(\"\\nUsing While loop: \")\n",
    "i = 1\n",
    "while i <= 10:\n",
    "    print(i,end=' ')\n",
    "    i += 1\n"
   ]
  },
  {
   "cell_type": "markdown",
   "id": "80c48896",
   "metadata": {},
   "source": [
    "### 13. If you had a function named bacon() inside a module named spam, how would you call it after importing spam?\n"
   ]
  },
  {
   "cell_type": "markdown",
   "id": "f516332d",
   "metadata": {},
   "source": [
    "### Ans: spam.bacon()"
   ]
  },
  {
   "cell_type": "code",
   "execution_count": null,
   "id": "9a9e6fed",
   "metadata": {},
   "outputs": [],
   "source": []
  }
 ],
 "metadata": {
  "kernelspec": {
   "display_name": "Python 3 (ipykernel)",
   "language": "python",
   "name": "python3"
  },
  "language_info": {
   "codemirror_mode": {
    "name": "ipython",
    "version": 3
   },
   "file_extension": ".py",
   "mimetype": "text/x-python",
   "name": "python",
   "nbconvert_exporter": "python",
   "pygments_lexer": "ipython3",
   "version": "3.9.7"
  }
 },
 "nbformat": 4,
 "nbformat_minor": 5
}
