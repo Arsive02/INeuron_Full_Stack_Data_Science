{
 "cells": [
  {
   "cell_type": "markdown",
   "id": "b0152a42",
   "metadata": {},
   "source": [
    "### 1. What exactly is [ ]?"
   ]
  },
  {
   "cell_type": "code",
   "execution_count": 1,
   "id": "b486b66e",
   "metadata": {},
   "outputs": [
    {
     "data": {
      "text/plain": [
       "list"
      ]
     },
     "execution_count": 1,
     "metadata": {},
     "output_type": "execute_result"
    }
   ],
   "source": [
    "type([])"
   ]
  },
  {
   "cell_type": "markdown",
   "id": "5db5cbce",
   "metadata": {},
   "source": [
    "### 2. In a list of values stored in a variable called spam, how would you assign the value 'hello' as the third value? (Assume [2, 4, 6, 8, 10] are in spam.)"
   ]
  },
  {
   "cell_type": "code",
   "execution_count": 2,
   "id": "b47c7d25",
   "metadata": {},
   "outputs": [
    {
     "name": "stdout",
     "output_type": "stream",
     "text": [
      "[2, 4, 'hello', 8, 10]\n"
     ]
    }
   ],
   "source": [
    "spam = [2,4,6,8,10]\n",
    "spam[2] = \"hello\"\n",
    "print(spam)"
   ]
  },
  {
   "cell_type": "markdown",
   "id": "4463596e",
   "metadata": {},
   "source": [
    "#### <i>Let's pretend the spam includes the list ['a', 'b', 'c', 'd'] for the next three queries.</i>"
   ]
  },
  {
   "cell_type": "code",
   "execution_count": 3,
   "id": "0d2bd2c2",
   "metadata": {},
   "outputs": [],
   "source": [
    "spam = ['a','b','c','d']"
   ]
  },
  {
   "cell_type": "markdown",
   "id": "b6bd1138",
   "metadata": {},
   "source": [
    "### 3. What is the value of spam[int(int('3' * 2) / 11)]?"
   ]
  },
  {
   "cell_type": "code",
   "execution_count": 4,
   "id": "e0b1b4f1",
   "metadata": {},
   "outputs": [
    {
     "data": {
      "text/plain": [
       "'d'"
      ]
     },
     "execution_count": 4,
     "metadata": {},
     "output_type": "execute_result"
    }
   ],
   "source": [
    "spam[int(int('3'*2)/11)]     # spam[int(int('33')/11)] => spam[int(33/11)] => spam[int(3.0)] => spam[3] = 'd'"
   ]
  },
  {
   "cell_type": "markdown",
   "id": "0a8e68e1",
   "metadata": {},
   "source": [
    "### 4. What is the value of spam[-1]?"
   ]
  },
  {
   "cell_type": "code",
   "execution_count": 5,
   "id": "081ece3c",
   "metadata": {},
   "outputs": [
    {
     "data": {
      "text/plain": [
       "'d'"
      ]
     },
     "execution_count": 5,
     "metadata": {},
     "output_type": "execute_result"
    }
   ],
   "source": [
    "spam[-1] # last index value"
   ]
  },
  {
   "cell_type": "markdown",
   "id": "ce22a15d",
   "metadata": {},
   "source": [
    "### 5. What is the value of spam[:2]?"
   ]
  },
  {
   "cell_type": "code",
   "execution_count": 6,
   "id": "7d529a68",
   "metadata": {},
   "outputs": [
    {
     "data": {
      "text/plain": [
       "['a', 'b']"
      ]
     },
     "execution_count": 6,
     "metadata": {},
     "output_type": "execute_result"
    }
   ],
   "source": [
    "spam[:2]  # first and second index value"
   ]
  },
  {
   "cell_type": "markdown",
   "id": "09515f1d",
   "metadata": {},
   "source": [
    "#### <i>Let's pretend bacon has the list [3.14, 'cat,' 11, 'cat,' True] for the next three questions.</i>"
   ]
  },
  {
   "cell_type": "code",
   "execution_count": 7,
   "id": "e67bc1ee",
   "metadata": {},
   "outputs": [],
   "source": [
    "bacon = [3.14,'cat',11,'cat',True]"
   ]
  },
  {
   "cell_type": "markdown",
   "id": "36dda26c",
   "metadata": {},
   "source": [
    "### 6. What is the value of bacon.index('cat')?"
   ]
  },
  {
   "cell_type": "code",
   "execution_count": 8,
   "id": "613bd752",
   "metadata": {},
   "outputs": [
    {
     "data": {
      "text/plain": [
       "1"
      ]
     },
     "execution_count": 8,
     "metadata": {},
     "output_type": "execute_result"
    }
   ],
   "source": [
    "bacon.index('cat')"
   ]
  },
  {
   "cell_type": "markdown",
   "id": "f3084d8d",
   "metadata": {},
   "source": [
    "### 7. How does bacon.append(99) change the look of the list value in bacon?"
   ]
  },
  {
   "cell_type": "code",
   "execution_count": 9,
   "id": "dd9034be",
   "metadata": {},
   "outputs": [
    {
     "name": "stdout",
     "output_type": "stream",
     "text": [
      "Before appending 99: [3.14, 'cat', 11, 'cat', True]\n",
      "After appending 99: [3.14, 'cat', 11, 'cat', True, 99]\n"
     ]
    }
   ],
   "source": [
    "print(\"Before appending 99:\",bacon)\n",
    "bacon.append(99)\n",
    "print(\"After appending 99:\",bacon)"
   ]
  },
  {
   "cell_type": "markdown",
   "id": "9e350b4b",
   "metadata": {},
   "source": [
    "### 8. How does bacon.remove('cat') change the look of the list in bacon?"
   ]
  },
  {
   "cell_type": "code",
   "execution_count": 10,
   "id": "828f5c0a",
   "metadata": {},
   "outputs": [
    {
     "name": "stdout",
     "output_type": "stream",
     "text": [
      "Before removeing: [3.14, 'cat', 11, 'cat', True, 99]\n",
      "After removing: [3.14, 11, 'cat', True, 99]\n"
     ]
    }
   ],
   "source": [
    "print(\"Before removeing:\",bacon)\n",
    "bacon.remove('cat')\n",
    "print(\"After removing:\",bacon)"
   ]
  },
  {
   "cell_type": "markdown",
   "id": "4e203961",
   "metadata": {},
   "source": [
    "### 9. What are the list concatenation and list replication operators?"
   ]
  },
  {
   "cell_type": "markdown",
   "id": "95c9b334",
   "metadata": {},
   "source": [
    "List concatenation:"
   ]
  },
  {
   "cell_type": "code",
   "execution_count": 11,
   "id": "ccdf3e36",
   "metadata": {},
   "outputs": [
    {
     "name": "stdout",
     "output_type": "stream",
     "text": [
      "List concatenation:  [1, 2, 3, 4, 5, 6]\n"
     ]
    }
   ],
   "source": [
    "a = [1,2,3]\n",
    "b = [4,5,6]\n",
    "print(\"List concatenation: \", a+b)"
   ]
  },
  {
   "cell_type": "markdown",
   "id": "a4d7cd7a",
   "metadata": {},
   "source": [
    "List replication:"
   ]
  },
  {
   "cell_type": "code",
   "execution_count": 12,
   "id": "188d9c79",
   "metadata": {},
   "outputs": [
    {
     "name": "stdout",
     "output_type": "stream",
     "text": [
      "Replicated list:  [1, 2, 3, 1, 2, 3, 1, 2, 3]\n"
     ]
    }
   ],
   "source": [
    "a = [1,2,3]*3\n",
    "print(\"Replicated list: \",a)"
   ]
  },
  {
   "cell_type": "markdown",
   "id": "48513f14",
   "metadata": {},
   "source": [
    "### 10. What is difference between the list methods append() and insert()?"
   ]
  },
  {
   "cell_type": "markdown",
   "id": "2538a5ef",
   "metadata": {},
   "source": [
    "list.append(object): Appends object to the end of the list. \n",
    "\n",
    "list.insert(index, object): inserts the object before the index."
   ]
  },
  {
   "cell_type": "code",
   "execution_count": 13,
   "id": "b902ee87",
   "metadata": {},
   "outputs": [
    {
     "name": "stdout",
     "output_type": "stream",
     "text": [
      "After Appending: [1, 2, 3, 4]\n",
      "After inserting: [1, 2, 100, 3, 4]\n"
     ]
    }
   ],
   "source": [
    "a = [1,2,3]\n",
    "a.append(4)\n",
    "print(\"After Appending:\", a)\n",
    "\n",
    "a.insert(2,100)\n",
    "print(\"After inserting:\",a)"
   ]
  },
  {
   "cell_type": "markdown",
   "id": "3f5c6ee1",
   "metadata": {},
   "source": [
    "### 11. What are the two methods for removing items from a list?"
   ]
  },
  {
   "cell_type": "code",
   "execution_count": 14,
   "id": "1848a46c",
   "metadata": {},
   "outputs": [
    {
     "name": "stdout",
     "output_type": "stream",
     "text": [
      "Using Delete method: [1, 3]\n",
      "Using remove method: [1, 3]\n"
     ]
    }
   ],
   "source": [
    "a = [1,2,3]\n",
    "del a[1]\n",
    "print(\"Using Delete method:\",a)\n",
    "\n",
    "a = [1,2,3]\n",
    "a.remove(2)    # Removes the first occurance of 2\n",
    "print(\"Using remove method:\",a)  "
   ]
  },
  {
   "cell_type": "markdown",
   "id": "4da34069",
   "metadata": {},
   "source": [
    "### 12. Describe how list values and string values are identical."
   ]
  },
  {
   "cell_type": "markdown",
   "id": "e393b9eb",
   "metadata": {},
   "source": [
    "List and String can be sliced, replicated, concatenated etc. They are identical in many ways. Some differences include mutablity of list and string."
   ]
  },
  {
   "cell_type": "markdown",
   "id": "0af4b9fd",
   "metadata": {},
   "source": [
    "### 13. What's the difference between tuples and lists?"
   ]
  },
  {
   "cell_type": "markdown",
   "id": "5740d2f8",
   "metadata": {},
   "source": [
    "<pre>\n",
    "- Tuples are Immutable while List is mutable\n",
    "- Both tuple and list are slicable, indexable.\n",
    "- Tuples are represented using () while List is represented using [] \n",
    "</pre>"
   ]
  },
  {
   "cell_type": "markdown",
   "id": "00b2d233",
   "metadata": {},
   "source": [
    "### 14. How do you type a tuple value that only contains the integer 42?"
   ]
  },
  {
   "cell_type": "code",
   "execution_count": 15,
   "id": "1a920e38",
   "metadata": {},
   "outputs": [
    {
     "name": "stdout",
     "output_type": "stream",
     "text": [
      "<class 'tuple'> (42,)\n"
     ]
    }
   ],
   "source": [
    "a = (42,)\n",
    "print(type(a),a)"
   ]
  },
  {
   "cell_type": "markdown",
   "id": "178decc0",
   "metadata": {},
   "source": [
    "### 15. How do you get a list value's tuple form? How do you get a tuple value's list form?"
   ]
  },
  {
   "cell_type": "code",
   "execution_count": 16,
   "id": "43c811c0",
   "metadata": {},
   "outputs": [
    {
     "name": "stdout",
     "output_type": "stream",
     "text": [
      "[1, 2, 3, 4] -> (1, 2, 3, 4) <class 'tuple'>\n",
      "(1, 2, 3, 4) -> [1, 2, 3, 4] <class 'list'>\n"
     ]
    }
   ],
   "source": [
    "a = [1,2,3,4]\n",
    "print(a,'->',tuple(a),type(tuple(a)))\n",
    "\n",
    "b = (1,2,3,4)\n",
    "print(b,'->',list(b),type(list(b)))"
   ]
  },
  {
   "cell_type": "markdown",
   "id": "8e6784c1",
   "metadata": {},
   "source": [
    "### 16. Variables that \"contain\" list values are not necessarily lists themselves. Instead, what do they contain?"
   ]
  },
  {
   "cell_type": "markdown",
   "id": "4a1b2a9e",
   "metadata": {},
   "source": [
    "The variables are references to the list object and it's values."
   ]
  },
  {
   "cell_type": "markdown",
   "id": "b8854185",
   "metadata": {},
   "source": [
    "### 17. How do you distinguish between copy.copy() and copy.deepcopy()?"
   ]
  },
  {
   "cell_type": "markdown",
   "id": "239be932",
   "metadata": {},
   "source": [
    "copy.deepcopy() works recursively and hence the nested lists are also copied or cloned( Child lists ). Used for copying matrices and higher dimensional lists. \n",
    "\n",
    "copy.copy() is a shallow copy and doesn't work recursively. It clones list values of a vector."
   ]
  }
 ],
 "metadata": {
  "kernelspec": {
   "display_name": "Python 3 (ipykernel)",
   "language": "python",
   "name": "python3"
  },
  "language_info": {
   "codemirror_mode": {
    "name": "ipython",
    "version": 3
   },
   "file_extension": ".py",
   "mimetype": "text/x-python",
   "name": "python",
   "nbconvert_exporter": "python",
   "pygments_lexer": "ipython3",
   "version": "3.9.7"
  }
 },
 "nbformat": 4,
 "nbformat_minor": 5
}
