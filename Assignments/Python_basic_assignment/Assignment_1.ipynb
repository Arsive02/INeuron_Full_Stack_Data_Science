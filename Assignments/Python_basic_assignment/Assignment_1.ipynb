{
 "cells": [
  {
   "cell_type": "markdown",
   "id": "a217dd40",
   "metadata": {},
   "source": [
    "### 1: In the below elements which of them are values or an expression? eg:- values can be integer or string and expressions will be mathematical operators.\n",
    "\n",
    "#### Ans:"
   ]
  },
  {
   "attachments": {
    "image-2.png": {
     "image/png": "[encoded data removed]"
    }
   },
   "cell_type": "markdown",
   "id": "86815c60",
   "metadata": {},
   "source": [
    "![image-2.png](attachment:image-2.png)"
   ]
  },
  {
   "cell_type": "markdown",
   "id": "0a2afce1",
   "metadata": {},
   "source": [
    "### 2. What is the difference between string and variable?"
   ]
  },
  {
   "cell_type": "markdown",
   "id": "cc87c7d8",
   "metadata": {},
   "source": [
    "A String is a datatype (an array of characters) and Variable is an entity to store values that can be used for later. Variables are stored in memory. "
   ]
  },
  {
   "cell_type": "markdown",
   "id": "ba7ef3ec",
   "metadata": {},
   "source": [
    "### 3. Describe three different data types."
   ]
  },
  {
   "cell_type": "markdown",
   "id": "ab3350b3",
   "metadata": {},
   "source": [
    "Int – Integer datatype describes the integer type data (-2147483648 through 2147483647) <br>\n",
    "Float – Decimal datatype describes the floating-point numbers (1.04, 2.0512) <br>\n",
    "Bool - Boolean datatype - True or false"
   ]
  },
  {
   "cell_type": "markdown",
   "id": "d7b8738d",
   "metadata": {},
   "source": [
    "### 4. What is an expression made up of? What do all expressions do?"
   ]
  },
  {
   "cell_type": "markdown",
   "id": "66bbc4be",
   "metadata": {},
   "source": [
    "An expression is made of mathematical operators that can perform operations on operands. Every expression leads to a value."
   ]
  },
  {
   "cell_type": "markdown",
   "id": "56d288b3",
   "metadata": {},
   "source": [
    "### 5. This assignment statements, like spam = 10. What is the difference between an expression and a statement?"
   ]
  },
  {
   "cell_type": "markdown",
   "id": "73aeb558",
   "metadata": {},
   "source": [
    "An expression evaluates the mathematical operations while statements are something that helps us to create valid instructions."
   ]
  },
  {
   "cell_type": "markdown",
   "id": "4261e430",
   "metadata": {},
   "source": [
    "### 6. After running the following code, what does the variable bacon contain?\n",
    "        bacon = 22\n",
    "        bacon + 1\n"
   ]
  },
  {
   "cell_type": "markdown",
   "id": "6e859e01",
   "metadata": {},
   "source": [
    "The value of bacon will be unchanges as it is not assigned or updated. Hence it is 22"
   ]
  },
  {
   "cell_type": "markdown",
   "id": "4b26fbab",
   "metadata": {},
   "source": [
    "### 7. What should the values of the following two terms be?"
   ]
  },
  {
   "cell_type": "markdown",
   "id": "96addf58",
   "metadata": {},
   "source": [
    "'spam' + 'spamspam'"
   ]
  },
  {
   "cell_type": "code",
   "execution_count": 1,
   "id": "d6aa3696",
   "metadata": {},
   "outputs": [
    {
     "data": {
      "text/plain": [
       "'spamspamspam'"
      ]
     },
     "execution_count": 1,
     "metadata": {},
     "output_type": "execute_result"
    }
   ],
   "source": [
    "'spam' + 'spamspam'"
   ]
  },
  {
   "cell_type": "markdown",
   "id": "ee06fc87",
   "metadata": {},
   "source": [
    "'spam'*3"
   ]
  },
  {
   "cell_type": "code",
   "execution_count": 2,
   "id": "e0e805c6",
   "metadata": {},
   "outputs": [
    {
     "data": {
      "text/plain": [
       "'spamspamspam'"
      ]
     },
     "execution_count": 2,
     "metadata": {},
     "output_type": "execute_result"
    }
   ],
   "source": [
    "'spam'*3"
   ]
  },
  {
   "cell_type": "markdown",
   "id": "fb834fcf",
   "metadata": {},
   "source": [
    "### 8. Why is eggs a valid variable name while 100 is invalid?"
   ]
  },
  {
   "cell_type": "markdown",
   "id": "7bf5bcc7",
   "metadata": {},
   "source": [
    "Because python does not allow the naming of variable to start with number. <br>\n",
    "Some valid naming conventions are:"
   ]
  },
  {
   "cell_type": "code",
   "execution_count": 3,
   "id": "c1e105a1",
   "metadata": {},
   "outputs": [],
   "source": [
    "# Valid naming conventions\n",
    "\n",
    "a = 100\n",
    "a1 = 100\n",
    "a_1 = 100"
   ]
  },
  {
   "cell_type": "code",
   "execution_count": 4,
   "id": "228ad3ae",
   "metadata": {},
   "outputs": [
    {
     "ename": "SyntaxError",
     "evalue": "invalid syntax (Temp/ipykernel_10880/3081678749.py, line 2)",
     "output_type": "error",
     "traceback": [
      "\u001b[1;36m  File \u001b[1;32m\"C:\\Users\\sivap\\AppData\\Local\\Temp/ipykernel_10880/3081678749.py\"\u001b[1;36m, line \u001b[1;32m2\u001b[0m\n\u001b[1;33m    1a = 100\u001b[0m\n\u001b[1;37m     ^\u001b[0m\n\u001b[1;31mSyntaxError\u001b[0m\u001b[1;31m:\u001b[0m invalid syntax\n"
     ]
    }
   ],
   "source": [
    "# Invalid Naming conventions eg\n",
    "1a = 100"
   ]
  },
  {
   "cell_type": "markdown",
   "id": "14fc13ee",
   "metadata": {},
   "source": [
    "### 9. What three functions can be used to get the integer, floating-point number, or string version of a value?"
   ]
  },
  {
   "cell_type": "markdown",
   "id": "610f0dce",
   "metadata": {},
   "source": [
    "int(), float(), str() are used to cast the datatypes accordingly"
   ]
  },
  {
   "cell_type": "code",
   "execution_count": 5,
   "id": "25e7efd6",
   "metadata": {},
   "outputs": [
    {
     "name": "stdout",
     "output_type": "stream",
     "text": [
      "Integer val:  100 \n",
      "Floating Val:  100.0 \n",
      "String Val: 100\n"
     ]
    }
   ],
   "source": [
    "val = 100\n",
    "print('Integer val: ',int(val), '\\nFloating Val: ',float(val),'\\nString Val: ' + str(val),end= '\\n')"
   ]
  },
  {
   "cell_type": "markdown",
   "id": "5ccb44cd",
   "metadata": {},
   "source": [
    "### 10. Why does this expression cause an error? How can you fix it?"
   ]
  },
  {
   "cell_type": "markdown",
   "id": "2affcebe",
   "metadata": {},
   "source": [
    "'I have eaten ' + 99 + ' burritos.'"
   ]
  },
  {
   "cell_type": "markdown",
   "id": "a574429f",
   "metadata": {},
   "source": [
    "<pre>\n",
    "We cannot concatenate an ‘int’ datatype directly to ‘str’. We need to either type cast the integer to string or add quotes to it.\n",
    "\n",
    "‘I have eaten’ + str(99) + ‘burritos’\n",
    "‘I have eaten’ + ‘99’ + ‘burritos’\n",
    "<pre>"
   ]
  },
  {
   "cell_type": "code",
   "execution_count": 6,
   "id": "c77d49c4",
   "metadata": {},
   "outputs": [
    {
     "data": {
      "text/plain": [
       "'I have eaten99burritos'"
      ]
     },
     "execution_count": 6,
     "metadata": {},
     "output_type": "execute_result"
    }
   ],
   "source": [
    "'I have eaten' + str(99) + 'burritos'"
   ]
  },
  {
   "cell_type": "code",
   "execution_count": null,
   "id": "87b90553",
   "metadata": {},
   "outputs": [],
   "source": []
  }
 ],
 "metadata": {
  "kernelspec": {
   "display_name": "Python 3 (ipykernel)",
   "language": "python",
   "name": "python3"
  },
  "language_info": {
   "codemirror_mode": {
    "name": "ipython",
    "version": 3
   },
   "file_extension": ".py",
   "mimetype": "text/x-python",
   "name": "python",
   "nbconvert_exporter": "python",
   "pygments_lexer": "ipython3",
   "version": "3.9.7"
  }
 },
 "nbformat": 4,
 "nbformat_minor": 5
}
