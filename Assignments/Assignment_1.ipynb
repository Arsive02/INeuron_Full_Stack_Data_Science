{
 "cells": [
  {
   "cell_type": "markdown",
   "id": "7f6f150f",
   "metadata": {},
   "source": [
    "### 1: In the below elements which of them are values or an expression? eg:- values can be integer or string and expressions will be mathematical operators."
   ]
  },
  {
   "cell_type": "raw",
   "id": "6f81c035",
   "metadata": {},
   "source": [
    "* \t\t\t-> Expression\n",
    "'hello' \t-> Value\n",
    "-87.8  \t\t-> Value\n",
    "- \t\t\t-> Expression\n",
    "/ \t\t\t-> Expression\n",
    "+\t\t\t-> Expression\n",
    "6 \t\t\t-> Value\n"
   ]
  },
  {
   "cell_type": "markdown",
   "id": "a044daed",
   "metadata": {},
   "source": [
    "### 2. What is the difference between string and variable?"
   ]
  },
  {
   "cell_type": "raw",
   "id": "81071590",
   "metadata": {},
   "source": [
    "A String is a datatype (an array of characters) and Variable is an entity to store values that can be used for later. Variables are stored in memory. "
   ]
  },
  {
   "cell_type": "markdown",
   "id": "2f20c5ce",
   "metadata": {},
   "source": [
    "### 3. Describe three different data types."
   ]
  },
  {
   "cell_type": "raw",
   "id": "5c05a35e",
   "metadata": {},
   "source": [
    "Int – Integer datatype describes the integer type data (-2147483648 through 2147483647)\n",
    "Float – Decimal datatype describes the floating-point numbers (1.04, 2.0512)\n",
    "Bool - Boolean datatype - True or false"
   ]
  },
  {
   "cell_type": "markdown",
   "id": "4e0bf663",
   "metadata": {},
   "source": [
    "### 4. What is an expression made up of? What do all expressions do?"
   ]
  },
  {
   "cell_type": "raw",
   "id": "b15d8c6a",
   "metadata": {},
   "source": [
    "An expression is made of mathematical operators that can perform operations on operands. Every expression leads to a value."
   ]
  },
  {
   "cell_type": "markdown",
   "id": "dd46d5e2",
   "metadata": {},
   "source": [
    "### 5. This assignment statements, like spam = 10. What is the difference between an expression and a statement?"
   ]
  },
  {
   "cell_type": "raw",
   "id": "a8c96155",
   "metadata": {},
   "source": [
    "An expression evaluates the mathematical operations while statements are something that helps us to create valid instructions."
   ]
  },
  {
   "cell_type": "markdown",
   "id": "611aec5c",
   "metadata": {},
   "source": [
    "### 6. After running the following code, what does the variable bacon contain?\n",
    "        bacon = 22\n",
    "        bacon + 1\n"
   ]
  },
  {
   "cell_type": "raw",
   "id": "fe3919c5",
   "metadata": {},
   "source": [
    "22"
   ]
  },
  {
   "cell_type": "markdown",
   "id": "b40e9eac",
   "metadata": {},
   "source": [
    "### 7. What should the values of the following two terms be?"
   ]
  },
  {
   "cell_type": "raw",
   "id": "9a6ec4a2",
   "metadata": {},
   "source": [
    "'spam' + 'spamspam'"
   ]
  },
  {
   "cell_type": "code",
   "execution_count": 2,
   "id": "17929f9c",
   "metadata": {},
   "outputs": [
    {
     "data": {
      "text/plain": [
       "'spamspamspam'"
      ]
     },
     "execution_count": 2,
     "metadata": {},
     "output_type": "execute_result"
    }
   ],
   "source": [
    "'spam' + 'spamspam'"
   ]
  },
  {
   "cell_type": "raw",
   "id": "560c8db5",
   "metadata": {},
   "source": [
    "'spam'*3"
   ]
  },
  {
   "cell_type": "code",
   "execution_count": 3,
   "id": "122ae441",
   "metadata": {},
   "outputs": [
    {
     "data": {
      "text/plain": [
       "'spamspamspam'"
      ]
     },
     "execution_count": 3,
     "metadata": {},
     "output_type": "execute_result"
    }
   ],
   "source": [
    "'spam'*3"
   ]
  },
  {
   "cell_type": "markdown",
   "id": "213da6a9",
   "metadata": {},
   "source": [
    "### 8. Why is eggs a valid variable name while 100 is invalid?"
   ]
  },
  {
   "cell_type": "raw",
   "id": "dda09074",
   "metadata": {},
   "source": [
    "Because python does not allow the naming of variable to start with number.\n",
    "Some valid naming conventions are: \n",
    "a \n",
    "las\n",
    "As_12\n",
    "Asf1"
   ]
  },
  {
   "cell_type": "markdown",
   "id": "f5db65ca",
   "metadata": {},
   "source": [
    "### 9. What three functions can be used to get the integer, floating-point number, or string version of a value?"
   ]
  },
  {
   "cell_type": "raw",
   "id": "4f2fa177",
   "metadata": {},
   "source": [
    "int(), float(), str()"
   ]
  },
  {
   "cell_type": "markdown",
   "id": "9d11ec0c",
   "metadata": {},
   "source": [
    "### 10. Why does this expression cause an error? How can you fix it?"
   ]
  },
  {
   "cell_type": "raw",
   "id": "7cf194b3",
   "metadata": {},
   "source": [
    "'I have eaten ' + 99 + ' burritos.'"
   ]
  },
  {
   "cell_type": "raw",
   "id": "07525989",
   "metadata": {},
   "source": [
    "We cannot concatenate an ‘int’ datatype directly to ‘str’. We need to either type cast the integer to string or add quotes to it.\n",
    "\n",
    "‘I have eaten’ + str(99) + ‘burritos’\n",
    "‘I have eaten’ + ‘99’ + ‘burritos’"
   ]
  },
  {
   "cell_type": "code",
   "execution_count": 5,
   "id": "c4d8f135",
   "metadata": {},
   "outputs": [
    {
     "data": {
      "text/plain": [
       "'I have eaten99burritos'"
      ]
     },
     "execution_count": 5,
     "metadata": {},
     "output_type": "execute_result"
    }
   ],
   "source": [
    "'I have eaten' + str(99) + 'burritos'"
   ]
  },
  {
   "cell_type": "code",
   "execution_count": null,
   "id": "8833eeb9",
   "metadata": {},
   "outputs": [],
   "source": []
  }
 ],
 "metadata": {
  "kernelspec": {
   "display_name": "Python 3 (ipykernel)",
   "language": "python",
   "name": "python3"
  },
  "language_info": {
   "codemirror_mode": {
    "name": "ipython",
    "version": 3
   },
   "file_extension": ".py",
   "mimetype": "text/x-python",
   "name": "python",
   "nbconvert_exporter": "python",
   "pygments_lexer": "ipython3",
   "version": "3.9.7"
  }
 },
 "nbformat": 4,
 "nbformat_minor": 5
}
